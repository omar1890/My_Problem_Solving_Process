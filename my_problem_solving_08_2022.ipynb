{
 "cells": [
  {
   "cell_type": "markdown",
   "metadata": {},
   "source": [
    "# A - Vanya and Fence "
   ]
  },
  {
   "cell_type": "code",
   "execution_count": 1,
   "metadata": {},
   "outputs": [],
   "source": [
    "n, h = map(int, input().split())\n",
    "arr = list(map(int, input().split()))"
   ]
  },
  {
   "cell_type": "code",
   "execution_count": 5,
   "metadata": {},
   "outputs": [
    {
     "name": "stdout",
     "output_type": "stream",
     "text": [
      "[10, 4, 5, 7, 8]\n",
      "7\n"
     ]
    }
   ],
   "source": [
    "count = 0 \n",
    "for i in arr :\n",
    "    if i > h :\n",
    "        count += 2\n",
    "    else :\n",
    "        count +=1\n",
    "print(arr)\n",
    "print(count)"
   ]
  },
  {
   "cell_type": "code",
   "execution_count": 6,
   "metadata": {},
   "outputs": [
    {
     "name": "stdout",
     "output_type": "stream",
     "text": [
      "[10, 4, 5, 7, 8]\n",
      "7\n"
     ]
    }
   ],
   "source": [
    "count = n \n",
    "for i in arr :\n",
    "    if i > h :\n",
    "        count += 1\n",
    "print(arr)\n",
    "print(count)"
   ]
  },
  {
   "cell_type": "code",
   "execution_count": 7,
   "metadata": {},
   "outputs": [
    {
     "name": "stdout",
     "output_type": "stream",
     "text": [
      "8\n"
     ]
    }
   ],
   "source": [
    "I=lambda:map(int,input().split())\n",
    "n,h=I()\n",
    "print(n+sum(i>h for i in I()))"
   ]
  },
  {
   "cell_type": "code",
   "execution_count": 8,
   "metadata": {},
   "outputs": [
    {
     "ename": "TypeError",
     "evalue": "'>' not supported between instances of 'list' and 'int'",
     "output_type": "error",
     "traceback": [
      "\u001b[1;31m---------------------------------------------------------------------------\u001b[0m",
      "\u001b[1;31mTypeError\u001b[0m                                 Traceback (most recent call last)",
      "\u001b[1;32me:\\New Trip\\problem_solving.ipynb Cell 6\u001b[0m in \u001b[0;36m<cell line: 1>\u001b[1;34m()\u001b[0m\n\u001b[1;32m----> <a href='vscode-notebook-cell:/e%3A/New%20Trip/problem_solving.ipynb#W5sZmlsZQ%3D%3D?line=0'>1</a>\u001b[0m arr \u001b[39m>\u001b[39;49m h\n",
      "\u001b[1;31mTypeError\u001b[0m: '>' not supported between instances of 'list' and 'int'"
     ]
    }
   ],
   "source": [
    "count = n \n",
    "for i in arr :\n",
    "    if i > h :\n",
    "        count += 1\n",
    "print(arr)\n",
    "print(count)"
   ]
  },
  {
   "cell_type": "markdown",
   "metadata": {},
   "source": [
    "# A. Anton and Danik"
   ]
  },
  {
   "cell_type": "code",
   "execution_count": 27,
   "metadata": {},
   "outputs": [],
   "source": [
    "n = int(input())\n",
    "s = input()"
   ]
  },
  {
   "cell_type": "code",
   "execution_count": 29,
   "metadata": {},
   "outputs": [
    {
     "name": "stdout",
     "output_type": "stream",
     "text": [
      "Danik\n"
     ]
    }
   ],
   "source": [
    "count_A = 0\n",
    "count_B = 0 \n",
    "for i in s:\n",
    "    if i == 'A':\n",
    "        count_A+=1 \n",
    "    else :\n",
    "        count_B+=1 \n",
    "if count_A > count_B:\n",
    "    print(\"Anton\")\n",
    "elif count_A < count_B:\n",
    "    print(\"Danik\")\n",
    "else : \n",
    "    print(\"Friendship\")"
   ]
  },
  {
   "cell_type": "code",
   "execution_count": 30,
   "metadata": {},
   "outputs": [
    {
     "name": "stdout",
     "output_type": "stream",
     "text": [
      "Anton\n"
     ]
    }
   ],
   "source": [
    "count_A = s.count('A')\n",
    "count_B = s.count('B')\n",
    "if count_A > count_B:\n",
    "    print(\"Anton\")\n",
    "elif count_A < count_B:\n",
    "    print(\"Danik\")\n",
    "else : \n",
    "    print(\"Friendship\")"
   ]
  },
  {
   "cell_type": "markdown",
   "metadata": {},
   "source": [
    "# Bear amd Big Brother"
   ]
  },
  {
   "cell_type": "code",
   "execution_count": 2,
   "metadata": {},
   "outputs": [
    {
     "name": "stdout",
     "output_type": "stream",
     "text": [
      "2\n"
     ]
    }
   ],
   "source": [
    "l,b = map(int, input().split())\n",
    "years = 0 \n",
    "while(l <= b):\n",
    "    l *= 3\n",
    "    b *= 2\n",
    "    years +=1\n",
    "\n",
    "print(years)"
   ]
  },
  {
   "cell_type": "code",
   "execution_count": 3,
   "metadata": {},
   "outputs": [
    {
     "ename": "SyntaxError",
     "evalue": "'literal' is an illegal expression for augmented assignment (1776343638.py, line 1)",
     "output_type": "error",
     "traceback": [
      "\u001b[1;36m  Input \u001b[1;32mIn [3]\u001b[1;36m\u001b[0m\n\u001b[1;33m    5 <<= 1\u001b[0m\n\u001b[1;37m    ^\u001b[0m\n\u001b[1;31mSyntaxError\u001b[0m\u001b[1;31m:\u001b[0m 'literal' is an illegal expression for augmented assignment\n"
     ]
    }
   ],
   "source": [
    "l,b = map(int, input().split())\n",
    "years = 0 \n",
    "for i in range(100000):\n",
    "    if l > b:\n",
    "        years =i\n",
    "        break\n",
    "    l *= 3\n",
    "    b *= 2\n",
    "\n",
    "print(years)"
   ]
  },
  {
   "cell_type": "markdown",
   "metadata": {},
   "source": [
    "# A. Team"
   ]
  },
  {
   "cell_type": "code",
   "execution_count": 7,
   "metadata": {},
   "outputs": [
    {
     "name": "stdout",
     "output_type": "stream",
     "text": [
      "2\n"
     ]
    }
   ],
   "source": [
    "n = int(input())\n",
    "problems = 0\n",
    "\n",
    "for i in range(n):\n",
    "    test = list(map(int,input().split()))\n",
    "    could = test.count(1)\n",
    "    if could > 1 :\n",
    "        problems += 1\n",
    "print(problems) \n"
   ]
  },
  {
   "cell_type": "code",
   "execution_count": 4,
   "metadata": {},
   "outputs": [
    {
     "data": {
      "text/plain": [
       "3"
      ]
     },
     "execution_count": 4,
     "metadata": {},
     "output_type": "execute_result"
    }
   ],
   "source": [
    "test = [1,2,3,1,1]\n",
    "test.count(1)"
   ]
  },
  {
   "cell_type": "code",
   "execution_count": null,
   "metadata": {},
   "outputs": [],
   "source": []
  },
  {
   "cell_type": "markdown",
   "metadata": {},
   "source": [
    "# A - Beautiful Matrix "
   ]
  },
  {
   "cell_type": "code",
   "execution_count": 4,
   "metadata": {},
   "outputs": [
    {
     "name": "stdout",
     "output_type": "stream",
     "text": [
      "3\n"
     ]
    }
   ],
   "source": [
    "x = 0 # row\n",
    "y = 0 # column\n",
    "for i in range(5) :\n",
    "    matrix = list(map(int,input().split()))\n",
    "    if 1 in matrix :\n",
    "        x = i \n",
    "        y = matrix.index(1) \n",
    "    \n",
    "print(max(x,2)-min(x,2) + max(y,2)-min(y,2))"
   ]
  },
  {
   "cell_type": "code",
   "execution_count": 3,
   "metadata": {},
   "outputs": [
    {
     "data": {
      "text/plain": [
       "str"
      ]
     },
     "execution_count": 3,
     "metadata": {},
     "output_type": "execute_result"
    }
   ],
   "source": [
    "type(matrix[0])"
   ]
  },
  {
   "cell_type": "code",
   "execution_count": null,
   "metadata": {},
   "outputs": [],
   "source": []
  },
  {
   "cell_type": "markdown",
   "metadata": {},
   "source": [
    "# A. Petya and Strings"
   ]
  },
  {
   "cell_type": "code",
   "execution_count": 8,
   "metadata": {},
   "outputs": [
    {
     "name": "stdout",
     "output_type": "stream",
     "text": [
      "0\n"
     ]
    }
   ],
   "source": [
    "s1 = input().capitalize()\n",
    "s2 = input().capitalize()\n",
    "if s1 < s2 :\n",
    "    print(-1)\n",
    "elif s1 > s2:\n",
    "    print(1)\n",
    "else :\n",
    "    print(0)\n"
   ]
  },
  {
   "cell_type": "markdown",
   "metadata": {},
   "source": [
    "# Boy or Girl"
   ]
  },
  {
   "cell_type": "code",
   "execution_count": 18,
   "metadata": {},
   "outputs": [
    {
     "name": "stdout",
     "output_type": "stream",
     "text": [
      "CHAT WITH HER!\n"
     ]
    }
   ],
   "source": [
    "print('IGNORE HIM!') if len(set(list(input()))) % 2 != 0 else print('CHAT WITH HER!')"
   ]
  },
  {
   "cell_type": "markdown",
   "metadata": {},
   "source": [
    "# Word "
   ]
  },
  {
   "cell_type": "code",
   "execution_count": 30,
   "metadata": {},
   "outputs": [
    {
     "name": "stdout",
     "output_type": "stream",
     "text": [
      "wixa\n"
     ]
    }
   ],
   "source": [
    "s = input()\n",
    "count =0 \n",
    "for i in list(s):\n",
    "    if i.isupper():\n",
    "        count+=1\n",
    "if len(s)//2 < count:\n",
    "    print(s.upper())\n",
    "else :\n",
    "    print(s.lower())"
   ]
  },
  {
   "cell_type": "markdown",
   "metadata": {},
   "source": [
    "# A. Magnets"
   ]
  },
  {
   "cell_type": "code",
   "execution_count": 34,
   "metadata": {},
   "outputs": [
    {
     "name": "stdout",
     "output_type": "stream",
     "text": [
      "4\n"
     ]
    }
   ],
   "source": [
    "# n = int(input())\n",
    "# count_01 = 0 \n",
    "# count_10 = 0 \n",
    "# for i in range(n):\n",
    "#     if input() == '01':\n",
    "#         count_01 +=1\n",
    "#     else : \n",
    "#         count_10 +=1\n",
    "# group = 0\n",
    "# if count_10 % 2 == 0 :\n",
    "#     group += 1\n",
    "# else : \n",
    "#     group += 2\n",
    "\n",
    "# if count_01 % 2 == 0 :\n",
    "#     group += 1\n",
    "# else : \n",
    "#     group += 2\n",
    "\n",
    "# print(group)"
   ]
  },
  {
   "cell_type": "markdown",
   "metadata": {},
   "source": [
    "# Data Structure Revision"
   ]
  },
  {
   "cell_type": "markdown",
   "metadata": {},
   "source": [
    "## Sorting Algorithms "
   ]
  },
  {
   "cell_type": "markdown",
   "metadata": {},
   "source": [
    "### Bubble Sorting"
   ]
  },
  {
   "cell_type": "code",
   "execution_count": 8,
   "metadata": {},
   "outputs": [
    {
     "name": "stdout",
     "output_type": "stream",
     "text": [
      "before sorting :  [-2, 45, 0, 11, -9]\n",
      "internal  0 [-2, 45, 0, 11, -9]\n",
      "internal  0 [-2, 0, 45, 11, -9]\n",
      "internal  0 [-2, 0, 11, 45, -9]\n",
      "internal  0 [-2, 0, 11, -9, 45]\n",
      "iteration  0 [-2, 0, 11, -9, 45]\n",
      "\n",
      "\n",
      "internal  1 [-2, 0, 11, -9, 45]\n",
      "internal  1 [-2, 0, 11, -9, 45]\n",
      "internal  1 [-2, 0, -9, 11, 45]\n",
      "iteration  1 [-2, 0, -9, 11, 45]\n",
      "\n",
      "\n",
      "internal  2 [-2, 0, -9, 11, 45]\n",
      "internal  2 [-2, -9, 0, 11, 45]\n",
      "iteration  2 [-2, -9, 0, 11, 45]\n",
      "\n",
      "\n",
      "internal  3 [-9, -2, 0, 11, 45]\n",
      "iteration  3 [-9, -2, 0, 11, 45]\n",
      "\n",
      "\n",
      "iteration  4 [-9, -2, 0, 11, 45]\n",
      "\n",
      "\n",
      "[-9, -2, 0, 11, 45]\n"
     ]
    }
   ],
   "source": [
    "def bubble_sort(data):\n",
    "    print(\"before sorting : \",data)\n",
    "    for i in range(len(data)):\n",
    "\n",
    "        for j in range(0, len(data)-i-1 ):\n",
    "            if data[j] > data[j+1]:\n",
    "                temp = data[j]\n",
    "                data[j] = data[j+1]\n",
    "                data[j+1] = temp\n",
    "            print('internal ',i,data)\n",
    "        print('iteration ',i,data)\n",
    "        print('\\n')\n",
    "       \n",
    "    return data\n",
    "data = [-2, 45, 0, 11, -9]\n",
    "print(bubble_sort(data))"
   ]
  },
  {
   "cell_type": "code",
   "execution_count": 9,
   "metadata": {},
   "outputs": [
    {
     "name": "stdout",
     "output_type": "stream",
     "text": [
      "before sorting :  [-2, 45, 0, 11, -9]\n",
      "internal  0 [-2, 45, 0, 11, -9]\n",
      "internal  0 [-2, 0, 45, 11, -9]\n",
      "internal  0 [-2, 0, 11, 45, -9]\n",
      "internal  0 [-2, 0, 11, -9, 45]\n",
      "iteration  0 [-2, 0, 11, -9, 45]\n",
      "\n",
      "\n",
      "internal  1 [-2, 0, 11, -9, 45]\n",
      "internal  1 [-2, 0, 11, -9, 45]\n",
      "internal  1 [-2, 0, -9, 11, 45]\n",
      "iteration  1 [-2, 0, -9, 11, 45]\n",
      "\n",
      "\n",
      "internal  2 [-2, 0, -9, 11, 45]\n",
      "internal  2 [-2, -9, 0, 11, 45]\n",
      "iteration  2 [-2, -9, 0, 11, 45]\n",
      "\n",
      "\n",
      "internal  3 [-9, -2, 0, 11, 45]\n",
      "iteration  3 [-9, -2, 0, 11, 45]\n",
      "\n",
      "\n",
      "iteration  4 [-9, -2, 0, 11, 45]\n",
      "\n",
      "\n",
      "[-9, -2, 0, 11, 45]\n"
     ]
    }
   ],
   "source": [
    "def bubble_sort(data):\n",
    "    print(\"before sorting : \",data)\n",
    "    swapped = False\n",
    "    for i in range(len(data)):\n",
    "\n",
    "        for j in range(0, len(data)-i-1 ):\n",
    "            if data[j] > data[j+1]:\n",
    "                temp = data[j]\n",
    "                data[j] = data[j+1]\n",
    "                data[j+1] = temp\n",
    "                swapped = True\n",
    "            print('internal ',i,data)\n",
    "        print('iteration ',i,data)\n",
    "        print('\\n')\n",
    "        if not swapped:\n",
    "            break\n",
    "       \n",
    "    return data\n",
    "data = [-2, 45, 0, 11, -9]\n",
    "print(bubble_sort(data))"
   ]
  },
  {
   "cell_type": "code",
   "execution_count": 22,
   "metadata": {},
   "outputs": [
    {
     "name": "stdout",
     "output_type": "stream",
     "text": [
      "1 2 3 4\n"
     ]
    }
   ],
   "source": [
    "def bubble_sort_optimized(data):\n",
    "    swapped = False\n",
    "    for i in range(len(data)):\n",
    "\n",
    "        for j in range(0, len(data)-i-1 ):\n",
    "            if data[j] > data[j+1]:\n",
    "                temp = data[j]\n",
    "                data[j] = data[j+1]\n",
    "                data[j+1] = temp\n",
    "                swapped = True\n",
    "        if not swapped:\n",
    "            break\n",
    "       \n",
    "    return data\n",
    "\n",
    "n = int(input())\n",
    "data = list(map(int,input().split()))\n",
    "print(*bubble_sort_optimized(data))"
   ]
  },
  {
   "cell_type": "markdown",
   "metadata": {},
   "source": [
    "### Selection sort"
   ]
  },
  {
   "cell_type": "code",
   "execution_count": 2,
   "metadata": {},
   "outputs": [
    {
     "data": {
      "text/plain": [
       "[-9, -2, 0, 10, 10, 45]"
      ]
     },
     "execution_count": 2,
     "metadata": {},
     "output_type": "execute_result"
    }
   ],
   "source": [
    "def selection_sort(data):\n",
    "    for i in range(len(data)):\n",
    "        min = i \n",
    "        for j in range(i+1,len(data)):\n",
    "            if data[min] > data[j]:\n",
    "                min = j \n",
    "        data[i],data[min] = data[min],data[i]\n",
    "    return data\n",
    "data = [-2, 45, 0, 10,10, -9]\n",
    "selection_sort(data)"
   ]
  },
  {
   "cell_type": "code",
   "execution_count": null,
   "metadata": {},
   "outputs": [],
   "source": []
  }
 ],
 "metadata": {
  "kernelspec": {
   "display_name": "Python 3.10.5 64-bit",
   "language": "python",
   "name": "python3"
  },
  "language_info": {
   "codemirror_mode": {
    "name": "ipython",
    "version": 3
   },
   "file_extension": ".py",
   "mimetype": "text/x-python",
   "name": "python",
   "nbconvert_exporter": "python",
   "pygments_lexer": "ipython3",
   "version": "3.10.5"
  },
  "orig_nbformat": 4,
  "vscode": {
   "interpreter": {
    "hash": "b1f9457ba8134432e091eec8a0c958927e0852ff3bcc800274dc10a51bb65ba6"
   }
  }
 },
 "nbformat": 4,
 "nbformat_minor": 2
}
